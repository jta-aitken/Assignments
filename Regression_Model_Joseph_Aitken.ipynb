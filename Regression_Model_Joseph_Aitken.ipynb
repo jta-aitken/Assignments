{
  "nbformat": 4,
  "nbformat_minor": 0,
  "metadata": {
    "colab": {
      "name": "Regression Model - Joseph Aitken",
      "provenance": [],
      "collapsed_sections": [],
      "authorship_tag": "ABX9TyMlPqnP66J0QfR3ey6GiDap",
      "include_colab_link": true
    },
    "kernelspec": {
      "name": "python3",
      "display_name": "Python 3"
    }
  },
  "cells": [
    {
      "cell_type": "markdown",
      "metadata": {
        "id": "view-in-github",
        "colab_type": "text"
      },
      "source": [
        "<a href=\"https://colab.research.google.com/github/jta-aitken/Assignments/blob/main/Regression_Model_Joseph_Aitken.ipynb\" target=\"_parent\"><img src=\"https://colab.research.google.com/assets/colab-badge.svg\" alt=\"Open In Colab\"/></a>"
      ]
    },
    {
      "cell_type": "markdown",
      "metadata": {
        "id": "DjZQ92L6Bu_g"
      },
      "source": [
        "**Load Primary Libraries**"
      ]
    },
    {
      "cell_type": "code",
      "metadata": {
        "id": "84O3dsW2AD7H"
      },
      "source": [
        "import pandas as pd\r\n",
        "import numpy as np\r\n",
        "import sklearn"
      ],
      "execution_count": null,
      "outputs": []
    },
    {
      "cell_type": "markdown",
      "metadata": {
        "id": "W_YwaJj7B1xX"
      },
      "source": [
        "**Understanding the Data**"
      ]
    },
    {
      "cell_type": "code",
      "metadata": {
        "colab": {
          "base_uri": "https://localhost:8080/",
          "height": 224
        },
        "id": "SQC_cSDaSNp0",
        "outputId": "9c89d778-48e2-4128-f203-20ac5e36eec3"
      },
      "source": [
        "# Import the data set.\r\n",
        "Data = pd.read_csv ('hate_crimes_reg.csv')\r\n",
        "\r\n",
        "# Check to see if the data has been imported, as expected, by viewing the top 5 rows.\r\n",
        "Data.head()"
      ],
      "execution_count": null,
      "outputs": [
        {
          "output_type": "execute_result",
          "data": {
            "text/html": [
              "<div>\n",
              "<style scoped>\n",
              "    .dataframe tbody tr th:only-of-type {\n",
              "        vertical-align: middle;\n",
              "    }\n",
              "\n",
              "    .dataframe tbody tr th {\n",
              "        vertical-align: top;\n",
              "    }\n",
              "\n",
              "    .dataframe thead th {\n",
              "        text-align: right;\n",
              "    }\n",
              "</style>\n",
              "<table border=\"1\" class=\"dataframe\">\n",
              "  <thead>\n",
              "    <tr style=\"text-align: right;\">\n",
              "      <th></th>\n",
              "      <th>state</th>\n",
              "      <th>share_unemployed_seasonal</th>\n",
              "      <th>share_population_in_metro_areas</th>\n",
              "      <th>share_population_with_high_school_degree</th>\n",
              "      <th>share_non_citizen</th>\n",
              "      <th>share_white_poverty</th>\n",
              "      <th>gini_index</th>\n",
              "      <th>share_non_white</th>\n",
              "      <th>share_voters_voted_trump</th>\n",
              "      <th>hate_crimes_per_100k_splc</th>\n",
              "      <th>avg_hatecrimes_per_100k_fbi</th>\n",
              "      <th>median_household_income</th>\n",
              "    </tr>\n",
              "  </thead>\n",
              "  <tbody>\n",
              "    <tr>\n",
              "      <th>0</th>\n",
              "      <td>Alabama</td>\n",
              "      <td>0.060</td>\n",
              "      <td>0.64</td>\n",
              "      <td>0.821</td>\n",
              "      <td>0.02</td>\n",
              "      <td>0.12</td>\n",
              "      <td>0.472</td>\n",
              "      <td>0.35</td>\n",
              "      <td>0.63</td>\n",
              "      <td>0.125839</td>\n",
              "      <td>1.806410</td>\n",
              "      <td>42278</td>\n",
              "    </tr>\n",
              "    <tr>\n",
              "      <th>1</th>\n",
              "      <td>Alaska</td>\n",
              "      <td>0.064</td>\n",
              "      <td>0.63</td>\n",
              "      <td>0.914</td>\n",
              "      <td>0.04</td>\n",
              "      <td>0.06</td>\n",
              "      <td>0.422</td>\n",
              "      <td>0.42</td>\n",
              "      <td>0.53</td>\n",
              "      <td>0.143740</td>\n",
              "      <td>1.656700</td>\n",
              "      <td>67629</td>\n",
              "    </tr>\n",
              "    <tr>\n",
              "      <th>2</th>\n",
              "      <td>Arizona</td>\n",
              "      <td>0.063</td>\n",
              "      <td>0.90</td>\n",
              "      <td>0.842</td>\n",
              "      <td>0.10</td>\n",
              "      <td>0.09</td>\n",
              "      <td>0.455</td>\n",
              "      <td>0.49</td>\n",
              "      <td>0.50</td>\n",
              "      <td>0.225320</td>\n",
              "      <td>3.413928</td>\n",
              "      <td>49254</td>\n",
              "    </tr>\n",
              "    <tr>\n",
              "      <th>3</th>\n",
              "      <td>Arkansas</td>\n",
              "      <td>0.052</td>\n",
              "      <td>0.69</td>\n",
              "      <td>0.824</td>\n",
              "      <td>0.04</td>\n",
              "      <td>0.12</td>\n",
              "      <td>0.458</td>\n",
              "      <td>0.26</td>\n",
              "      <td>0.60</td>\n",
              "      <td>0.069061</td>\n",
              "      <td>0.869209</td>\n",
              "      <td>44922</td>\n",
              "    </tr>\n",
              "    <tr>\n",
              "      <th>4</th>\n",
              "      <td>California</td>\n",
              "      <td>0.059</td>\n",
              "      <td>0.97</td>\n",
              "      <td>0.806</td>\n",
              "      <td>0.13</td>\n",
              "      <td>0.09</td>\n",
              "      <td>0.471</td>\n",
              "      <td>0.61</td>\n",
              "      <td>0.33</td>\n",
              "      <td>0.255805</td>\n",
              "      <td>2.397986</td>\n",
              "      <td>60487</td>\n",
              "    </tr>\n",
              "  </tbody>\n",
              "</table>\n",
              "</div>"
            ],
            "text/plain": [
              "        state  ...  median_household_income\n",
              "0     Alabama  ...                    42278\n",
              "1      Alaska  ...                    67629\n",
              "2     Arizona  ...                    49254\n",
              "3    Arkansas  ...                    44922\n",
              "4  California  ...                    60487\n",
              "\n",
              "[5 rows x 12 columns]"
            ]
          },
          "metadata": {
            "tags": []
          },
          "execution_count": 2
        }
      ]
    },
    {
      "cell_type": "code",
      "metadata": {
        "colab": {
          "base_uri": "https://localhost:8080/",
          "height": 100
        },
        "id": "OkHE75-I--cp",
        "outputId": "e3b2e49c-9e0b-432e-9420-e86f8d997208"
      },
      "source": [
        "# Check the structure is consistent through to the last observation.\r\n",
        "Data.tail(1)"
      ],
      "execution_count": null,
      "outputs": [
        {
          "output_type": "execute_result",
          "data": {
            "text/html": [
              "<div>\n",
              "<style scoped>\n",
              "    .dataframe tbody tr th:only-of-type {\n",
              "        vertical-align: middle;\n",
              "    }\n",
              "\n",
              "    .dataframe tbody tr th {\n",
              "        vertical-align: top;\n",
              "    }\n",
              "\n",
              "    .dataframe thead th {\n",
              "        text-align: right;\n",
              "    }\n",
              "</style>\n",
              "<table border=\"1\" class=\"dataframe\">\n",
              "  <thead>\n",
              "    <tr style=\"text-align: right;\">\n",
              "      <th></th>\n",
              "      <th>state</th>\n",
              "      <th>share_unemployed_seasonal</th>\n",
              "      <th>share_population_in_metro_areas</th>\n",
              "      <th>share_population_with_high_school_degree</th>\n",
              "      <th>share_non_citizen</th>\n",
              "      <th>share_white_poverty</th>\n",
              "      <th>gini_index</th>\n",
              "      <th>share_non_white</th>\n",
              "      <th>share_voters_voted_trump</th>\n",
              "      <th>hate_crimes_per_100k_splc</th>\n",
              "      <th>avg_hatecrimes_per_100k_fbi</th>\n",
              "      <th>median_household_income</th>\n",
              "    </tr>\n",
              "  </thead>\n",
              "  <tbody>\n",
              "    <tr>\n",
              "      <th>50</th>\n",
              "      <td>Wyoming</td>\n",
              "      <td>0.04</td>\n",
              "      <td>0.31</td>\n",
              "      <td>0.918</td>\n",
              "      <td>0.02</td>\n",
              "      <td>0.09</td>\n",
              "      <td>0.423</td>\n",
              "      <td>0.15</td>\n",
              "      <td>0.7</td>\n",
              "      <td>NaN</td>\n",
              "      <td>0.266941</td>\n",
              "      <td>55690</td>\n",
              "    </tr>\n",
              "  </tbody>\n",
              "</table>\n",
              "</div>"
            ],
            "text/plain": [
              "      state  ...  median_household_income\n",
              "50  Wyoming  ...                    55690\n",
              "\n",
              "[1 rows x 12 columns]"
            ]
          },
          "metadata": {
            "tags": []
          },
          "execution_count": 3
        }
      ]
    },
    {
      "cell_type": "code",
      "metadata": {
        "colab": {
          "base_uri": "https://localhost:8080/"
        },
        "id": "gaLWMtGU_XsR",
        "outputId": "7cf297d3-9e2d-469d-8dbe-fd30e5ea8426"
      },
      "source": [
        "# Print the coloumn names for future reference.\r\n",
        "Data.keys()"
      ],
      "execution_count": null,
      "outputs": [
        {
          "output_type": "execute_result",
          "data": {
            "text/plain": [
              "Index(['state', 'share_unemployed_seasonal', 'share_population_in_metro_areas',\n",
              "       'share_population_with_high_school_degree', 'share_non_citizen',\n",
              "       'share_white_poverty', 'gini_index', 'share_non_white',\n",
              "       'share_voters_voted_trump', 'hate_crimes_per_100k_splc',\n",
              "       'avg_hatecrimes_per_100k_fbi', 'median_household_income'],\n",
              "      dtype='object')"
            ]
          },
          "metadata": {
            "tags": []
          },
          "execution_count": 4
        }
      ]
    },
    {
      "cell_type": "code",
      "metadata": {
        "colab": {
          "base_uri": "https://localhost:8080/"
        },
        "id": "pIrICgdoZeKP",
        "outputId": "beefadb4-7aff-4a62-c279-67c3b72c33b4"
      },
      "source": [
        "# Review the type and size of the data set.\r\n",
        "print(Data.dtypes)\r\n",
        "print(Data.shape)"
      ],
      "execution_count": null,
      "outputs": [
        {
          "output_type": "stream",
          "text": [
            "state                                        object\n",
            "share_unemployed_seasonal                   float64\n",
            "share_population_in_metro_areas             float64\n",
            "share_population_with_high_school_degree    float64\n",
            "share_non_citizen                           float64\n",
            "share_white_poverty                         float64\n",
            "gini_index                                  float64\n",
            "share_non_white                             float64\n",
            "share_voters_voted_trump                    float64\n",
            "hate_crimes_per_100k_splc                   float64\n",
            "avg_hatecrimes_per_100k_fbi                 float64\n",
            "median_household_income                       int64\n",
            "dtype: object\n",
            "(51, 12)\n"
          ],
          "name": "stdout"
        }
      ]
    },
    {
      "cell_type": "code",
      "metadata": {
        "colab": {
          "base_uri": "https://localhost:8080/"
        },
        "id": "Dn4KS0M9_eXq",
        "outputId": "3cddfc19-cd01-4aa6-ced5-5094bfc88b07"
      },
      "source": [
        "# Check to see if there are any 'Not a Number (NaN)' values in the code that may prevent arithmetic.\r\n",
        "print(Data.isnull().sum())"
      ],
      "execution_count": null,
      "outputs": [
        {
          "output_type": "stream",
          "text": [
            "state                                       0\n",
            "share_unemployed_seasonal                   0\n",
            "share_population_in_metro_areas             0\n",
            "share_population_with_high_school_degree    0\n",
            "share_non_citizen                           3\n",
            "share_white_poverty                         0\n",
            "gini_index                                  0\n",
            "share_non_white                             0\n",
            "share_voters_voted_trump                    0\n",
            "hate_crimes_per_100k_splc                   4\n",
            "avg_hatecrimes_per_100k_fbi                 1\n",
            "median_household_income                     0\n",
            "dtype: int64\n"
          ],
          "name": "stdout"
        }
      ]
    },
    {
      "cell_type": "code",
      "metadata": {
        "id": "6ivXTVt5_kJj"
      },
      "source": [
        "# The above summary reveals there are 8 instances of NaN values.\r\n",
        "# Replace the NaN values with mean values, of their respective column, in above 3 columns using .fillna function.\r\n",
        "\r\n",
        "Data.share_non_citizen.fillna(Data.share_non_citizen.mean(), inplace = True)\r\n",
        "\r\n",
        "Data.hate_crimes_per_100k_splc.fillna(Data.hate_crimes_per_100k_splc.mean(), inplace = True)\r\n",
        "\r\n",
        "Data.avg_hatecrimes_per_100k_fbi.fillna(Data.avg_hatecrimes_per_100k_fbi.mean(), inplace = True)"
      ],
      "execution_count": null,
      "outputs": []
    },
    {
      "cell_type": "code",
      "metadata": {
        "colab": {
          "base_uri": "https://localhost:8080/"
        },
        "id": "PbRlW4iR_mvE",
        "outputId": "d5cba145-d298-4403-e953-ce40de6f9c94"
      },
      "source": [
        "# Check again for any NaN values.\r\n",
        "print(Data.isnull().sum())"
      ],
      "execution_count": null,
      "outputs": [
        {
          "output_type": "stream",
          "text": [
            "state                                       0\n",
            "share_unemployed_seasonal                   0\n",
            "share_population_in_metro_areas             0\n",
            "share_population_with_high_school_degree    0\n",
            "share_non_citizen                           0\n",
            "share_white_poverty                         0\n",
            "gini_index                                  0\n",
            "share_non_white                             0\n",
            "share_voters_voted_trump                    0\n",
            "hate_crimes_per_100k_splc                   0\n",
            "avg_hatecrimes_per_100k_fbi                 0\n",
            "median_household_income                     0\n",
            "dtype: int64\n"
          ],
          "name": "stdout"
        }
      ]
    },
    {
      "cell_type": "code",
      "metadata": {
        "colab": {
          "base_uri": "https://localhost:8080/",
          "height": 317
        },
        "id": "cxfvthPbI1hT",
        "outputId": "dd66306c-6021-42fa-bdca-9e81e977f545"
      },
      "source": [
        "# Display key statistics of the data set.\r\n",
        "Data.describe()"
      ],
      "execution_count": null,
      "outputs": [
        {
          "output_type": "execute_result",
          "data": {
            "text/html": [
              "<div>\n",
              "<style scoped>\n",
              "    .dataframe tbody tr th:only-of-type {\n",
              "        vertical-align: middle;\n",
              "    }\n",
              "\n",
              "    .dataframe tbody tr th {\n",
              "        vertical-align: top;\n",
              "    }\n",
              "\n",
              "    .dataframe thead th {\n",
              "        text-align: right;\n",
              "    }\n",
              "</style>\n",
              "<table border=\"1\" class=\"dataframe\">\n",
              "  <thead>\n",
              "    <tr style=\"text-align: right;\">\n",
              "      <th></th>\n",
              "      <th>share_unemployed_seasonal</th>\n",
              "      <th>share_population_in_metro_areas</th>\n",
              "      <th>share_population_with_high_school_degree</th>\n",
              "      <th>share_non_citizen</th>\n",
              "      <th>share_white_poverty</th>\n",
              "      <th>gini_index</th>\n",
              "      <th>share_non_white</th>\n",
              "      <th>share_voters_voted_trump</th>\n",
              "      <th>hate_crimes_per_100k_splc</th>\n",
              "      <th>avg_hatecrimes_per_100k_fbi</th>\n",
              "      <th>median_household_income</th>\n",
              "    </tr>\n",
              "  </thead>\n",
              "  <tbody>\n",
              "    <tr>\n",
              "      <th>count</th>\n",
              "      <td>51.000000</td>\n",
              "      <td>51.000000</td>\n",
              "      <td>51.000000</td>\n",
              "      <td>51.000000</td>\n",
              "      <td>51.000000</td>\n",
              "      <td>51.000000</td>\n",
              "      <td>51.000000</td>\n",
              "      <td>51.00000</td>\n",
              "      <td>51.000000</td>\n",
              "      <td>51.000000</td>\n",
              "      <td>51.000000</td>\n",
              "    </tr>\n",
              "    <tr>\n",
              "      <th>mean</th>\n",
              "      <td>0.049569</td>\n",
              "      <td>0.750196</td>\n",
              "      <td>0.869118</td>\n",
              "      <td>0.054583</td>\n",
              "      <td>0.091765</td>\n",
              "      <td>0.453765</td>\n",
              "      <td>0.315686</td>\n",
              "      <td>0.49000</td>\n",
              "      <td>0.304093</td>\n",
              "      <td>2.367613</td>\n",
              "      <td>55223.607843</td>\n",
              "    </tr>\n",
              "    <tr>\n",
              "      <th>std</th>\n",
              "      <td>0.010698</td>\n",
              "      <td>0.181587</td>\n",
              "      <td>0.034073</td>\n",
              "      <td>0.030130</td>\n",
              "      <td>0.024715</td>\n",
              "      <td>0.020891</td>\n",
              "      <td>0.164915</td>\n",
              "      <td>0.11871</td>\n",
              "      <td>0.242390</td>\n",
              "      <td>1.697016</td>\n",
              "      <td>9208.478170</td>\n",
              "    </tr>\n",
              "    <tr>\n",
              "      <th>min</th>\n",
              "      <td>0.028000</td>\n",
              "      <td>0.310000</td>\n",
              "      <td>0.799000</td>\n",
              "      <td>0.010000</td>\n",
              "      <td>0.040000</td>\n",
              "      <td>0.419000</td>\n",
              "      <td>0.060000</td>\n",
              "      <td>0.04000</td>\n",
              "      <td>0.067447</td>\n",
              "      <td>0.266941</td>\n",
              "      <td>35521.000000</td>\n",
              "    </tr>\n",
              "    <tr>\n",
              "      <th>25%</th>\n",
              "      <td>0.042000</td>\n",
              "      <td>0.630000</td>\n",
              "      <td>0.840500</td>\n",
              "      <td>0.030000</td>\n",
              "      <td>0.075000</td>\n",
              "      <td>0.440000</td>\n",
              "      <td>0.195000</td>\n",
              "      <td>0.41500</td>\n",
              "      <td>0.147645</td>\n",
              "      <td>1.303706</td>\n",
              "      <td>48657.000000</td>\n",
              "    </tr>\n",
              "    <tr>\n",
              "      <th>50%</th>\n",
              "      <td>0.051000</td>\n",
              "      <td>0.790000</td>\n",
              "      <td>0.874000</td>\n",
              "      <td>0.050000</td>\n",
              "      <td>0.090000</td>\n",
              "      <td>0.454000</td>\n",
              "      <td>0.280000</td>\n",
              "      <td>0.49000</td>\n",
              "      <td>0.247009</td>\n",
              "      <td>2.037054</td>\n",
              "      <td>54916.000000</td>\n",
              "    </tr>\n",
              "    <tr>\n",
              "      <th>75%</th>\n",
              "      <td>0.057500</td>\n",
              "      <td>0.895000</td>\n",
              "      <td>0.898000</td>\n",
              "      <td>0.080000</td>\n",
              "      <td>0.100000</td>\n",
              "      <td>0.466500</td>\n",
              "      <td>0.420000</td>\n",
              "      <td>0.57500</td>\n",
              "      <td>0.343006</td>\n",
              "      <td>3.168247</td>\n",
              "      <td>60719.000000</td>\n",
              "    </tr>\n",
              "    <tr>\n",
              "      <th>max</th>\n",
              "      <td>0.073000</td>\n",
              "      <td>1.000000</td>\n",
              "      <td>0.918000</td>\n",
              "      <td>0.130000</td>\n",
              "      <td>0.170000</td>\n",
              "      <td>0.532000</td>\n",
              "      <td>0.810000</td>\n",
              "      <td>0.70000</td>\n",
              "      <td>1.522302</td>\n",
              "      <td>10.953480</td>\n",
              "      <td>76165.000000</td>\n",
              "    </tr>\n",
              "  </tbody>\n",
              "</table>\n",
              "</div>"
            ],
            "text/plain": [
              "       share_unemployed_seasonal  ...  median_household_income\n",
              "count                  51.000000  ...                51.000000\n",
              "mean                    0.049569  ...             55223.607843\n",
              "std                     0.010698  ...              9208.478170\n",
              "min                     0.028000  ...             35521.000000\n",
              "25%                     0.042000  ...             48657.000000\n",
              "50%                     0.051000  ...             54916.000000\n",
              "75%                     0.057500  ...             60719.000000\n",
              "max                     0.073000  ...             76165.000000\n",
              "\n",
              "[8 rows x 11 columns]"
            ]
          },
          "metadata": {
            "tags": []
          },
          "execution_count": 10
        }
      ]
    },
    {
      "cell_type": "markdown",
      "metadata": {
        "id": "fTnfw1NFMAYU"
      },
      "source": [
        "**Visualise the Data**"
      ]
    },
    {
      "cell_type": "code",
      "metadata": {
        "id": "KtYcDU_tMB9K"
      },
      "source": [
        "# Import the relevant libraries.\r\n",
        "import seaborn as sns\r\n",
        "import matplotlib.pyplot as plt\r\n",
        "%matplotlib inline"
      ],
      "execution_count": null,
      "outputs": []
    },
    {
      "cell_type": "code",
      "metadata": {
        "colab": {
          "base_uri": "https://localhost:8080/",
          "height": 391
        },
        "id": "5B6DZ-g4NDRQ",
        "outputId": "da6fea62-89ec-43ff-e60b-50e2da61e840"
      },
      "source": [
        "# Visually compare relationship between 'median_household_income' and other interesting features.\r\n",
        "sns.pairplot(Data, \r\n",
        "             x_vars=['share_voters_voted_trump','share_population_with_high_school_degree','share_white_poverty'],\r\n",
        "             y_vars= 'median_household_income', \r\n",
        "             height=5 , aspect=0.9)"
      ],
      "execution_count": null,
      "outputs": [
        {
          "output_type": "execute_result",
          "data": {
            "text/plain": [
              "<seaborn.axisgrid.PairGrid at 0x7fc948f7ca90>"
            ]
          },
          "metadata": {
            "tags": []
          },
          "execution_count": 13
        },
        {
          "output_type": "display_data",
          "data": {
            "image/png": "[encoded data removed]",
            "text/plain": [
              "<Figure size 972x360 with 3 Axes>"
            ]
          },
          "metadata": {
            "tags": [],
            "needs_background": "light"
          }
        }
      ]
    },
    {
      "cell_type": "code",
      "metadata": {
        "colab": {
          "base_uri": "https://localhost:8080/",
          "height": 391
        },
        "id": "y-XN86FjQczN",
        "outputId": "af9ceb57-eeeb-4204-8c7f-0bbe908e5fab"
      },
      "source": [
        "# Visualise the regression using the kind function.\r\n",
        "sns.pairplot(Data, \r\n",
        "             x_vars=['share_voters_voted_trump','share_population_with_high_school_degree','share_white_poverty'],\r\n",
        "             y_vars= 'median_household_income', \r\n",
        "             height=5 , aspect=1,\r\n",
        "             kind='reg')"
      ],
      "execution_count": null,
      "outputs": [
        {
          "output_type": "execute_result",
          "data": {
            "text/plain": [
              "<seaborn.axisgrid.PairGrid at 0x7fc9402ab400>"
            ]
          },
          "metadata": {
            "tags": []
          },
          "execution_count": 15
        },
        {
          "output_type": "display_data",
          "data": {
            "image/png": "[encoded data removed]",
            "text/plain": [
              "<Figure size 1080x360 with 3 Axes>"
            ]
          },
          "metadata": {
            "tags": [],
            "needs_background": "light"
          }
        }
      ]
    },
    {
      "cell_type": "markdown",
      "metadata": {
        "id": "4hkp_wylBa-F"
      },
      "source": [
        "**Tailoring the Data**"
      ]
    },
    {
      "cell_type": "code",
      "metadata": {
        "id": "JkqRdTdTeanD"
      },
      "source": [
        "# Import the relevant library.\r\n",
        "from sklearn.model_selection import train_test_split"
      ],
      "execution_count": null,
      "outputs": []
    },
    {
      "cell_type": "code",
      "metadata": {
        "colab": {
          "base_uri": "https://localhost:8080/"
        },
        "id": "iikkh_z4uoAo",
        "outputId": "9a69cee0-6cb8-4f45-e0a7-0c96ae1e8a32"
      },
      "source": [
        "# Remove 'state' column as it will prevent data fitting later i.e. drop the string.\r\n",
        "RedactedData = Data.drop(['state'], axis = 1)\r\n",
        "\r\n",
        "# Check revised data.\r\n",
        "print(RedactedData.head())\r\n",
        "print(RedactedData.shape)"
      ],
      "execution_count": null,
      "outputs": [
        {
          "output_type": "stream",
          "text": [
            "   share_unemployed_seasonal  ...  median_household_income\n",
            "0                      0.060  ...                    42278\n",
            "1                      0.064  ...                    67629\n",
            "2                      0.063  ...                    49254\n",
            "3                      0.052  ...                    44922\n",
            "4                      0.059  ...                    60487\n",
            "\n",
            "[5 rows x 11 columns]\n",
            "(51, 11)\n"
          ],
          "name": "stdout"
        }
      ]
    },
    {
      "cell_type": "code",
      "metadata": {
        "id": "Lbe7ekahZ36E"
      },
      "source": [
        "# Divide the data into 'Features' and 'Outcome' using .iloc function.\r\n",
        "\r\n",
        "Features = RedactedData.iloc[:,:-1]\r\n",
        "\r\n",
        "Outcome = RedactedData.iloc[:,-1]"
      ],
      "execution_count": null,
      "outputs": []
    },
    {
      "cell_type": "code",
      "metadata": {
        "colab": {
          "base_uri": "https://localhost:8080/"
        },
        "id": "yR1qo7qRa2LQ",
        "outputId": "097d269f-a54f-459d-fde4-67cc80889cf9"
      },
      "source": [
        "# Check to see if the data set has been divided, as expected.\r\n",
        "\r\n",
        "print(Features.head())\r\n",
        "\r\n",
        "print(Outcome.head())"
      ],
      "execution_count": null,
      "outputs": [
        {
          "output_type": "stream",
          "text": [
            "   share_unemployed_seasonal  ...  avg_hatecrimes_per_100k_fbi\n",
            "0                      0.060  ...                     1.806410\n",
            "1                      0.064  ...                     1.656700\n",
            "2                      0.063  ...                     3.413928\n",
            "3                      0.052  ...                     0.869209\n",
            "4                      0.059  ...                     2.397986\n",
            "\n",
            "[5 rows x 10 columns]\n",
            "0    42278\n",
            "1    67629\n",
            "2    49254\n",
            "3    44922\n",
            "4    60487\n",
            "Name: median_household_income, dtype: int64\n"
          ],
          "name": "stdout"
        }
      ]
    },
    {
      "cell_type": "code",
      "metadata": {
        "colab": {
          "base_uri": "https://localhost:8080/"
        },
        "id": "yDrN3WDkcO2p",
        "outputId": "b9aa9577-a5a6-4417-b3f1-65f6a9b34448"
      },
      "source": [
        "# Perfrom train and test split.\r\n",
        "X_train, X_test, y_train, y_test = train_test_split(Features,Outcome, test_size = 0.2, shuffle = False, random_state = 0)\r\n",
        "\r\n",
        "# Check the outcome of the split .\r\n",
        "X_train.shape, X_test.shape, y_train.shape, y_test.shape"
      ],
      "execution_count": null,
      "outputs": [
        {
          "output_type": "execute_result",
          "data": {
            "text/plain": [
              "((40, 10), (11, 10), (40,), (11,))"
            ]
          },
          "metadata": {
            "tags": []
          },
          "execution_count": 24
        }
      ]
    },
    {
      "cell_type": "markdown",
      "metadata": {
        "id": "UpZrmxiGA3G3"
      },
      "source": [
        "**Linear Regression Model**"
      ]
    },
    {
      "cell_type": "code",
      "metadata": {
        "id": "zuI9BkXDJpMM"
      },
      "source": [
        "# Import relevant sklearn library.\r\n",
        "from sklearn.linear_model import LinearRegression\r\n",
        "from sklearn.metrics import mean_squared_error, r2_score"
      ],
      "execution_count": null,
      "outputs": []
    },
    {
      "cell_type": "code",
      "metadata": {
        "id": "rsEpXgxVcwRN"
      },
      "source": [
        "# Load the model.\r\n",
        "LR_Model = LinearRegression()"
      ],
      "execution_count": null,
      "outputs": []
    },
    {
      "cell_type": "code",
      "metadata": {
        "id": "EQgdrImNAfWb",
        "colab": {
          "base_uri": "https://localhost:8080/"
        },
        "outputId": "49ef6ec8-d01b-4266-d9f6-b0d9799525d7"
      },
      "source": [
        "# Introduce data to the model.\r\n",
        "LR_Model.fit(X_train, y_train)\r\n"
      ],
      "execution_count": null,
      "outputs": [
        {
          "output_type": "execute_result",
          "data": {
            "text/plain": [
              "LinearRegression(copy_X=True, fit_intercept=True, n_jobs=None, normalize=False)"
            ]
          },
          "metadata": {
            "tags": []
          },
          "execution_count": 28
        }
      ]
    },
    {
      "cell_type": "code",
      "metadata": {
        "id": "EKKI321nW_uP"
      },
      "source": [
        "# Make predictions.\r\n",
        "Prediction = LR_Model.predict(X_test)"
      ],
      "execution_count": null,
      "outputs": []
    },
    {
      "cell_type": "code",
      "metadata": {
        "colab": {
          "base_uri": "https://localhost:8080/"
        },
        "id": "5Niy9mB8YvoJ",
        "outputId": "8a9b3bbf-5b52-476c-a753-d6580e93b07d"
      },
      "source": [
        "# Results using Root Mean Squared Error (RMSE).\r\n",
        "print(\"Model used = \",LR_Model)\r\n",
        "print(\"Accuracy score = \",np.sqrt(mean_squared_error(y_test, Prediction)))"
      ],
      "execution_count": null,
      "outputs": [
        {
          "output_type": "stream",
          "text": [
            "Model used =  LinearRegression(copy_X=True, fit_intercept=True, n_jobs=None, normalize=False)\n",
            "Accuracy score =  4422.097939702783\n"
          ],
          "name": "stdout"
        }
      ]
    },
    {
      "cell_type": "markdown",
      "metadata": {
        "id": "m6LncjSabkwo"
      },
      "source": [
        "**Feature Selection**\r\n",
        "\r\n",
        "> RFE - 5 Features\r\n",
        "\r\n"
      ]
    },
    {
      "cell_type": "code",
      "metadata": {
        "id": "Wqyp2pbMeVMs"
      },
      "source": [
        "# Import relevant sklearn library.\r\n",
        "from sklearn.feature_selection import RFE"
      ],
      "execution_count": null,
      "outputs": []
    },
    {
      "cell_type": "code",
      "metadata": {
        "colab": {
          "base_uri": "https://localhost:8080/"
        },
        "id": "E8pppfdPfzQY",
        "outputId": "693891c6-37d2-4137-dcde-3751b11314e7"
      },
      "source": [
        "rfe5 = RFE(LR_Model, 5)\r\n",
        "rfe5.fit(X_train, y_train)"
      ],
      "execution_count": null,
      "outputs": [
        {
          "output_type": "execute_result",
          "data": {
            "text/plain": [
              "RFE(estimator=LinearRegression(copy_X=True, fit_intercept=True, n_jobs=None,\n",
              "                               normalize=False),\n",
              "    n_features_to_select=5, step=1, verbose=0)"
            ]
          },
          "metadata": {
            "tags": []
          },
          "execution_count": 33
        }
      ]
    },
    {
      "cell_type": "code",
      "metadata": {
        "colab": {
          "base_uri": "https://localhost:8080/",
          "height": 359
        },
        "id": "lwZ4gSS-gmdL",
        "outputId": "c98dbb69-8242-4d8f-9a72-cb31c3bc958f"
      },
      "source": [
        "# View the top 5 features.\r\n",
        "rfe_features_5 = pd.DataFrame ({'Feature':list(X_train.columns),\r\n",
        "                              'Rank':rfe5.ranking_})\r\n",
        "rfe_features_5.sort_values(by='Rank')"
      ],
      "execution_count": null,
      "outputs": [
        {
          "output_type": "execute_result",
          "data": {
            "text/html": [
              "<div>\n",
              "<style scoped>\n",
              "    .dataframe tbody tr th:only-of-type {\n",
              "        vertical-align: middle;\n",
              "    }\n",
              "\n",
              "    .dataframe tbody tr th {\n",
              "        vertical-align: top;\n",
              "    }\n",
              "\n",
              "    .dataframe thead th {\n",
              "        text-align: right;\n",
              "    }\n",
              "</style>\n",
              "<table border=\"1\" class=\"dataframe\">\n",
              "  <thead>\n",
              "    <tr style=\"text-align: right;\">\n",
              "      <th></th>\n",
              "      <th>Feature</th>\n",
              "      <th>Rank</th>\n",
              "    </tr>\n",
              "  </thead>\n",
              "  <tbody>\n",
              "    <tr>\n",
              "      <th>0</th>\n",
              "      <td>share_unemployed_seasonal</td>\n",
              "      <td>1</td>\n",
              "    </tr>\n",
              "    <tr>\n",
              "      <th>2</th>\n",
              "      <td>share_population_with_high_school_degree</td>\n",
              "      <td>1</td>\n",
              "    </tr>\n",
              "    <tr>\n",
              "      <th>4</th>\n",
              "      <td>share_white_poverty</td>\n",
              "      <td>1</td>\n",
              "    </tr>\n",
              "    <tr>\n",
              "      <th>5</th>\n",
              "      <td>gini_index</td>\n",
              "      <td>1</td>\n",
              "    </tr>\n",
              "    <tr>\n",
              "      <th>7</th>\n",
              "      <td>share_voters_voted_trump</td>\n",
              "      <td>1</td>\n",
              "    </tr>\n",
              "    <tr>\n",
              "      <th>3</th>\n",
              "      <td>share_non_citizen</td>\n",
              "      <td>2</td>\n",
              "    </tr>\n",
              "    <tr>\n",
              "      <th>8</th>\n",
              "      <td>hate_crimes_per_100k_splc</td>\n",
              "      <td>3</td>\n",
              "    </tr>\n",
              "    <tr>\n",
              "      <th>1</th>\n",
              "      <td>share_population_in_metro_areas</td>\n",
              "      <td>4</td>\n",
              "    </tr>\n",
              "    <tr>\n",
              "      <th>6</th>\n",
              "      <td>share_non_white</td>\n",
              "      <td>5</td>\n",
              "    </tr>\n",
              "    <tr>\n",
              "      <th>9</th>\n",
              "      <td>avg_hatecrimes_per_100k_fbi</td>\n",
              "      <td>6</td>\n",
              "    </tr>\n",
              "  </tbody>\n",
              "</table>\n",
              "</div>"
            ],
            "text/plain": [
              "                                    Feature  Rank\n",
              "0                 share_unemployed_seasonal     1\n",
              "2  share_population_with_high_school_degree     1\n",
              "4                       share_white_poverty     1\n",
              "5                                gini_index     1\n",
              "7                  share_voters_voted_trump     1\n",
              "3                         share_non_citizen     2\n",
              "8                 hate_crimes_per_100k_splc     3\n",
              "1           share_population_in_metro_areas     4\n",
              "6                           share_non_white     5\n",
              "9               avg_hatecrimes_per_100k_fbi     6"
            ]
          },
          "metadata": {
            "tags": []
          },
          "execution_count": 34
        }
      ]
    },
    {
      "cell_type": "code",
      "metadata": {
        "id": "RsCeIw8qlwge"
      },
      "source": [
        "# Transform the training and test data based off the recursive elimination.\r\n",
        "X_train_rfe5 = rfe5.transform(X_train)\r\n",
        "X_test_rfe5 = rfe5.transform(X_test)"
      ],
      "execution_count": null,
      "outputs": []
    },
    {
      "cell_type": "code",
      "metadata": {
        "colab": {
          "base_uri": "https://localhost:8080/"
        },
        "id": "L4NkJKdQmO4f",
        "outputId": "61cd82b2-43fc-4273-bff7-32d5f21c0e01"
      },
      "source": [
        "# Run the model again with amended features.\r\n",
        "LR_rfe5_model = LR_Model.fit(X_train_rfe5, y_train)\r\n",
        "\r\n",
        "rfe5_Prediction = LR_rfe5_model.predict(X_test_rfe5)\r\n",
        "\r\n",
        "print(\"Accuracy score = \",np.sqrt(mean_squared_error(y_test, rfe5_Prediction)))"
      ],
      "execution_count": null,
      "outputs": [
        {
          "output_type": "stream",
          "text": [
            "Accuracy score =  3408.6075286864557\n"
          ],
          "name": "stdout"
        }
      ]
    },
    {
      "cell_type": "markdown",
      "metadata": {
        "id": "9uW9hv95sINz"
      },
      "source": [
        "\r\n",
        "\r\n",
        "> RFE - 4 Features\r\n",
        "\r\n"
      ]
    },
    {
      "cell_type": "code",
      "metadata": {
        "colab": {
          "base_uri": "https://localhost:8080/"
        },
        "id": "sTHmQd1xsNRP",
        "outputId": "56845ef1-d4ad-4c52-df60-3727d1a74428"
      },
      "source": [
        "# Perform the same process as above, using 4 features.\r\n",
        "rfe4 = RFE(LR_Model, 4)\r\n",
        "rfe4.fit(X_train, y_train)\r\n",
        "X_train_rfe4 = rfe4.transform(X_train)\r\n",
        "X_test_rfe4 = rfe4.transform(X_test)\r\n",
        "LR_rfe4_model = LR_Model.fit(X_train_rfe4, y_train)\r\n",
        "rfe4_Prediction = LR_rfe4_model.predict(X_test_rfe4)\r\n",
        "print(\"Accuracy score = \",np.sqrt(mean_squared_error(y_test, rfe4_Prediction)))"
      ],
      "execution_count": null,
      "outputs": [
        {
          "output_type": "stream",
          "text": [
            "Accuracy score =  4192.126775548709\n"
          ],
          "name": "stdout"
        }
      ]
    },
    {
      "cell_type": "markdown",
      "metadata": {
        "id": "4h2wmhY4uGo3"
      },
      "source": [
        "\r\n",
        "> RFE - 6 Features"
      ]
    },
    {
      "cell_type": "code",
      "metadata": {
        "colab": {
          "base_uri": "https://localhost:8080/"
        },
        "id": "e7cxEWmitlU4",
        "outputId": "e58d54c5-6ee9-451a-c806-10d0a3869715"
      },
      "source": [
        "# Perform the same process as above, using 6 features.\r\n",
        "rfe6 = RFE(LR_Model, 6)\r\n",
        "rfe6.fit(X_train, y_train)\r\n",
        "X_train_rfe6 = rfe6.transform(X_train)\r\n",
        "X_test_rfe6 = rfe6.transform(X_test)\r\n",
        "LR_rfe6_model = LR_Model.fit(X_train_rfe6, y_train)\r\n",
        "rfe6_Prediction = LR_rfe6_model.predict(X_test_rfe6)\r\n",
        "print(\"Accuracy score = \",np.sqrt(mean_squared_error(y_test, rfe6_Prediction)))"
      ],
      "execution_count": null,
      "outputs": [
        {
          "output_type": "stream",
          "text": [
            "Accuracy score =  3383.722464992088\n"
          ],
          "name": "stdout"
        }
      ]
    },
    {
      "cell_type": "markdown",
      "metadata": {
        "id": "XVrjRlCluLin"
      },
      "source": [
        "\r\n",
        "\r\n",
        "> RFE - 7 Features\r\n",
        "\r\n"
      ]
    },
    {
      "cell_type": "code",
      "metadata": {
        "colab": {
          "base_uri": "https://localhost:8080/"
        },
        "id": "FWyJ8IaCuSCN",
        "outputId": "28efc52a-4448-4ab8-e983-edd8df974cca"
      },
      "source": [
        "# Perform the same process as above, using 7 features.\r\n",
        "rfe7 = RFE(LR_Model, 7)\r\n",
        "rfe7.fit(X_train, y_train)\r\n",
        "X_train_rfe7 = rfe7.transform(X_train)\r\n",
        "X_test_rfe7 = rfe7.transform(X_test)\r\n",
        "LR_rfe7_model = LR_Model.fit(X_train_rfe7, y_train)\r\n",
        "rfe7_Prediction = LR_rfe7_model.predict(X_test_rfe7)\r\n",
        "print(\"Accuracy score = \",np.sqrt(mean_squared_error(y_test, rfe7_Prediction)))"
      ],
      "execution_count": null,
      "outputs": [
        {
          "output_type": "stream",
          "text": [
            "Accuracy score =  3799.921053400732\n"
          ],
          "name": "stdout"
        }
      ]
    },
    {
      "cell_type": "markdown",
      "metadata": {
        "id": "4NgmJi9Hupt5"
      },
      "source": [
        "**Compare Accuracy Scores**"
      ]
    },
    {
      "cell_type": "code",
      "metadata": {
        "colab": {
          "base_uri": "https://localhost:8080/"
        },
        "id": "XGZcjJOUuvEI",
        "outputId": "838ee074-bd91-4f16-ee86-0de4a5430b5a"
      },
      "source": [
        "# Compare the results side by side.\r\n",
        "print(\"Accuracy score, ALL features = \",np.sqrt(mean_squared_error(y_test, Prediction)))\r\n",
        "print(\"Accuracy score, 5 features = \",np.sqrt(mean_squared_error(y_test, rfe5_Prediction)))\r\n",
        "print(\"Accuracy score, 4 features = \",np.sqrt(mean_squared_error(y_test, rfe4_Prediction)))\r\n",
        "print(\"Accuracy score, 6 features = \",np.sqrt(mean_squared_error(y_test, rfe6_Prediction)))\r\n",
        "print(\"Accuracy score, 7 features = \",np.sqrt(mean_squared_error(y_test, rfe7_Prediction)))"
      ],
      "execution_count": null,
      "outputs": [
        {
          "output_type": "stream",
          "text": [
            "Accuracy score, ALL features =  4422.097939702783\n",
            "Accuracy score, 5 features =  3408.6075286864557\n",
            "Accuracy score, 4 features =  4192.126775548709\n",
            "Accuracy score, 6 features =  3383.722464992088\n",
            "Accuracy score, 7 features =  3799.921053400732\n"
          ],
          "name": "stdout"
        }
      ]
    },
    {
      "cell_type": "code",
      "metadata": {
        "id": "e0AjlzTgvJvV"
      },
      "source": [
        "# RFE with 6 features is the lowest and there for the most accurate model."
      ],
      "execution_count": null,
      "outputs": []
    }
  ]
}