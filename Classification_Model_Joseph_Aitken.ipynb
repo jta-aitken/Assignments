{
  "nbformat": 4,
  "nbformat_minor": 0,
  "metadata": {
    "colab": {
      "name": "Classification Model - Joseph Aitken",
      "provenance": [],
      "collapsed_sections": [],
      "authorship_tag": "ABX9TyM/pGx2rtSGujgoJ+UM9v0d",
      "include_colab_link": true
    },
    "kernelspec": {
      "name": "python3",
      "display_name": "Python 3"
    }
  },
  "cells": [
    {
      "cell_type": "markdown",
      "metadata": {
        "id": "view-in-github",
        "colab_type": "text"
      },
      "source": [
        "<a href=\"https://colab.research.google.com/github/jta-aitken/Assignments/blob/main/Classification_Model_Joseph_Aitken.ipynb\" target=\"_parent\"><img src=\"https://colab.research.google.com/assets/colab-badge.svg\" alt=\"Open In Colab\"/></a>"
      ]
    },
    {
      "cell_type": "markdown",
      "metadata": {
        "id": "O85t_FH67gqL"
      },
      "source": [
        "**Load Primary Libraries**"
      ]
    },
    {
      "cell_type": "code",
      "metadata": {
        "id": "84O3dsW2AD7H"
      },
      "source": [
        "import sklearn\r\n",
        "import pandas as pd\r\n",
        "import numpy as np"
      ],
      "execution_count": null,
      "outputs": []
    },
    {
      "cell_type": "markdown",
      "metadata": {
        "id": "nHML8lhp7bij"
      },
      "source": [
        "**Understanding the Data**"
      ]
    },
    {
      "cell_type": "code",
      "metadata": {
        "colab": {
          "base_uri": "https://localhost:8080/",
          "height": 224
        },
        "id": "lmaixP0Hfnob",
        "outputId": "9e334023-f39e-4f3b-92ab-e3e7686a5fad"
      },
      "source": [
        "# Import the data set.\r\n",
        "Data = pd.read_csv('hate_crimes_class.csv')\r\n",
        "\r\n",
        "# Check to see if the data has been imported, as expected, by viewing the top 5 rows.\r\n",
        "Data.head()"
      ],
      "execution_count": null,
      "outputs": [
        {
          "output_type": "execute_result",
          "data": {
            "text/html": [
              "<div>\n",
              "<style scoped>\n",
              "    .dataframe tbody tr th:only-of-type {\n",
              "        vertical-align: middle;\n",
              "    }\n",
              "\n",
              "    .dataframe tbody tr th {\n",
              "        vertical-align: top;\n",
              "    }\n",
              "\n",
              "    .dataframe thead th {\n",
              "        text-align: right;\n",
              "    }\n",
              "</style>\n",
              "<table border=\"1\" class=\"dataframe\">\n",
              "  <thead>\n",
              "    <tr style=\"text-align: right;\">\n",
              "      <th></th>\n",
              "      <th>state</th>\n",
              "      <th>median_household_income</th>\n",
              "      <th>share_unemployed_seasonal</th>\n",
              "      <th>share_population_in_metro_areas</th>\n",
              "      <th>share_population_with_high_school_degree</th>\n",
              "      <th>share_non_citizen</th>\n",
              "      <th>share_white_poverty</th>\n",
              "      <th>gini_index</th>\n",
              "      <th>share_non_white</th>\n",
              "      <th>share_voters_voted_trump</th>\n",
              "      <th>hate_crimes_per_100k_splc</th>\n",
              "      <th>avg_hatecrimes_per_100k_fbi</th>\n",
              "      <th>Trump_Victory</th>\n",
              "    </tr>\n",
              "  </thead>\n",
              "  <tbody>\n",
              "    <tr>\n",
              "      <th>0</th>\n",
              "      <td>Alabama</td>\n",
              "      <td>42278</td>\n",
              "      <td>0.060</td>\n",
              "      <td>0.64</td>\n",
              "      <td>0.821</td>\n",
              "      <td>0.02</td>\n",
              "      <td>0.12</td>\n",
              "      <td>0.472</td>\n",
              "      <td>0.35</td>\n",
              "      <td>0.63</td>\n",
              "      <td>0.125839</td>\n",
              "      <td>1.806410</td>\n",
              "      <td>1</td>\n",
              "    </tr>\n",
              "    <tr>\n",
              "      <th>1</th>\n",
              "      <td>Alaska</td>\n",
              "      <td>67629</td>\n",
              "      <td>0.064</td>\n",
              "      <td>0.63</td>\n",
              "      <td>0.914</td>\n",
              "      <td>0.04</td>\n",
              "      <td>0.06</td>\n",
              "      <td>0.422</td>\n",
              "      <td>0.42</td>\n",
              "      <td>0.53</td>\n",
              "      <td>0.143740</td>\n",
              "      <td>1.656700</td>\n",
              "      <td>1</td>\n",
              "    </tr>\n",
              "    <tr>\n",
              "      <th>2</th>\n",
              "      <td>Arizona</td>\n",
              "      <td>49254</td>\n",
              "      <td>0.063</td>\n",
              "      <td>0.90</td>\n",
              "      <td>0.842</td>\n",
              "      <td>0.10</td>\n",
              "      <td>0.09</td>\n",
              "      <td>0.455</td>\n",
              "      <td>0.49</td>\n",
              "      <td>0.50</td>\n",
              "      <td>0.225320</td>\n",
              "      <td>3.413928</td>\n",
              "      <td>0</td>\n",
              "    </tr>\n",
              "    <tr>\n",
              "      <th>3</th>\n",
              "      <td>Arkansas</td>\n",
              "      <td>44922</td>\n",
              "      <td>0.052</td>\n",
              "      <td>0.69</td>\n",
              "      <td>0.824</td>\n",
              "      <td>0.04</td>\n",
              "      <td>0.12</td>\n",
              "      <td>0.458</td>\n",
              "      <td>0.26</td>\n",
              "      <td>0.60</td>\n",
              "      <td>0.069061</td>\n",
              "      <td>0.869209</td>\n",
              "      <td>1</td>\n",
              "    </tr>\n",
              "    <tr>\n",
              "      <th>4</th>\n",
              "      <td>California</td>\n",
              "      <td>60487</td>\n",
              "      <td>0.059</td>\n",
              "      <td>0.97</td>\n",
              "      <td>0.806</td>\n",
              "      <td>0.13</td>\n",
              "      <td>0.09</td>\n",
              "      <td>0.471</td>\n",
              "      <td>0.61</td>\n",
              "      <td>0.33</td>\n",
              "      <td>0.255805</td>\n",
              "      <td>2.397986</td>\n",
              "      <td>0</td>\n",
              "    </tr>\n",
              "  </tbody>\n",
              "</table>\n",
              "</div>"
            ],
            "text/plain": [
              "        state  ...  Trump_Victory\n",
              "0     Alabama  ...              1\n",
              "1      Alaska  ...              1\n",
              "2     Arizona  ...              0\n",
              "3    Arkansas  ...              1\n",
              "4  California  ...              0\n",
              "\n",
              "[5 rows x 13 columns]"
            ]
          },
          "metadata": {
            "tags": []
          },
          "execution_count": 2
        }
      ]
    },
    {
      "cell_type": "code",
      "metadata": {
        "colab": {
          "base_uri": "https://localhost:8080/",
          "height": 100
        },
        "id": "y-LnfJ2U_xqX",
        "outputId": "ae9104a9-dd39-4a9e-8b58-7ea8415b87c0"
      },
      "source": [
        "# Check the structure is consistent through to the last observation.\r\n",
        "Data.tail(1)"
      ],
      "execution_count": null,
      "outputs": [
        {
          "output_type": "execute_result",
          "data": {
            "text/html": [
              "<div>\n",
              "<style scoped>\n",
              "    .dataframe tbody tr th:only-of-type {\n",
              "        vertical-align: middle;\n",
              "    }\n",
              "\n",
              "    .dataframe tbody tr th {\n",
              "        vertical-align: top;\n",
              "    }\n",
              "\n",
              "    .dataframe thead th {\n",
              "        text-align: right;\n",
              "    }\n",
              "</style>\n",
              "<table border=\"1\" class=\"dataframe\">\n",
              "  <thead>\n",
              "    <tr style=\"text-align: right;\">\n",
              "      <th></th>\n",
              "      <th>state</th>\n",
              "      <th>median_household_income</th>\n",
              "      <th>share_unemployed_seasonal</th>\n",
              "      <th>share_population_in_metro_areas</th>\n",
              "      <th>share_population_with_high_school_degree</th>\n",
              "      <th>share_non_citizen</th>\n",
              "      <th>share_white_poverty</th>\n",
              "      <th>gini_index</th>\n",
              "      <th>share_non_white</th>\n",
              "      <th>share_voters_voted_trump</th>\n",
              "      <th>hate_crimes_per_100k_splc</th>\n",
              "      <th>avg_hatecrimes_per_100k_fbi</th>\n",
              "      <th>Trump_Victory</th>\n",
              "    </tr>\n",
              "  </thead>\n",
              "  <tbody>\n",
              "    <tr>\n",
              "      <th>50</th>\n",
              "      <td>Wyoming</td>\n",
              "      <td>55690</td>\n",
              "      <td>0.04</td>\n",
              "      <td>0.31</td>\n",
              "      <td>0.918</td>\n",
              "      <td>0.02</td>\n",
              "      <td>0.09</td>\n",
              "      <td>0.423</td>\n",
              "      <td>0.15</td>\n",
              "      <td>0.7</td>\n",
              "      <td>NaN</td>\n",
              "      <td>0.266941</td>\n",
              "      <td>1</td>\n",
              "    </tr>\n",
              "  </tbody>\n",
              "</table>\n",
              "</div>"
            ],
            "text/plain": [
              "      state  ...  Trump_Victory\n",
              "50  Wyoming  ...              1\n",
              "\n",
              "[1 rows x 13 columns]"
            ]
          },
          "metadata": {
            "tags": []
          },
          "execution_count": 3
        }
      ]
    },
    {
      "cell_type": "code",
      "metadata": {
        "colab": {
          "base_uri": "https://localhost:8080/"
        },
        "id": "dbLwPUvptFo1",
        "outputId": "065ce692-e508-4189-960e-cf4154b0ca31"
      },
      "source": [
        "# Print the coloumn names for future reference.\r\n",
        "Data.keys()"
      ],
      "execution_count": null,
      "outputs": [
        {
          "output_type": "execute_result",
          "data": {
            "text/plain": [
              "Index(['state', 'median_household_income', 'share_unemployed_seasonal',\n",
              "       'share_population_in_metro_areas',\n",
              "       'share_population_with_high_school_degree', 'share_non_citizen',\n",
              "       'share_white_poverty', 'gini_index', 'share_non_white',\n",
              "       'share_voters_voted_trump', 'hate_crimes_per_100k_splc',\n",
              "       'avg_hatecrimes_per_100k_fbi', 'Trump_Victory'],\n",
              "      dtype='object')"
            ]
          },
          "metadata": {
            "tags": []
          },
          "execution_count": 4
        }
      ]
    },
    {
      "cell_type": "code",
      "metadata": {
        "colab": {
          "base_uri": "https://localhost:8080/"
        },
        "id": "HRniXgDIsqAR",
        "outputId": "c0f34493-0421-4468-cd85-94f82850827f"
      },
      "source": [
        "# Review the type and size of the data set.\r\n",
        "print(Data.dtypes)\r\n",
        "print(Data.shape)"
      ],
      "execution_count": null,
      "outputs": [
        {
          "output_type": "stream",
          "text": [
            "state                                        object\n",
            "median_household_income                       int64\n",
            "share_unemployed_seasonal                   float64\n",
            "share_population_in_metro_areas             float64\n",
            "share_population_with_high_school_degree    float64\n",
            "share_non_citizen                           float64\n",
            "share_white_poverty                         float64\n",
            "gini_index                                  float64\n",
            "share_non_white                             float64\n",
            "share_voters_voted_trump                    float64\n",
            "hate_crimes_per_100k_splc                   float64\n",
            "avg_hatecrimes_per_100k_fbi                 float64\n",
            "Trump_Victory                                 int64\n",
            "dtype: object\n",
            "(51, 13)\n"
          ],
          "name": "stdout"
        }
      ]
    },
    {
      "cell_type": "code",
      "metadata": {
        "colab": {
          "base_uri": "https://localhost:8080/"
        },
        "id": "KNds8xxElPoG",
        "outputId": "7f6e3920-8002-498e-ab80-61120d79a295"
      },
      "source": [
        "# Check to see if there are any 'Not a Number (NaN)' values in the code that may prevent arithmetic.\r\n",
        "print(Data.isnull().sum())"
      ],
      "execution_count": null,
      "outputs": [
        {
          "output_type": "stream",
          "text": [
            "state                                       0\n",
            "median_household_income                     0\n",
            "share_unemployed_seasonal                   0\n",
            "share_population_in_metro_areas             0\n",
            "share_population_with_high_school_degree    0\n",
            "share_non_citizen                           3\n",
            "share_white_poverty                         0\n",
            "gini_index                                  0\n",
            "share_non_white                             0\n",
            "share_voters_voted_trump                    0\n",
            "hate_crimes_per_100k_splc                   4\n",
            "avg_hatecrimes_per_100k_fbi                 1\n",
            "Trump_Victory                               0\n",
            "dtype: int64\n"
          ],
          "name": "stdout"
        }
      ]
    },
    {
      "cell_type": "code",
      "metadata": {
        "id": "SgbPvTGDojVO"
      },
      "source": [
        "# The above summary reveals there are 8 instances of NaN values.\r\n",
        "# Replace the NaN values with mean values, of their respective column, in above 3 columns using fillna function.\r\n",
        "\r\n",
        "Data.share_non_citizen.fillna(Data.share_non_citizen.mean(), inplace = True)\r\n",
        "\r\n",
        "Data.hate_crimes_per_100k_splc.fillna(Data.hate_crimes_per_100k_splc.mean(), inplace = True)\r\n",
        "\r\n",
        "Data.avg_hatecrimes_per_100k_fbi.fillna(Data.avg_hatecrimes_per_100k_fbi.mean(), inplace = True)"
      ],
      "execution_count": null,
      "outputs": []
    },
    {
      "cell_type": "code",
      "metadata": {
        "colab": {
          "base_uri": "https://localhost:8080/"
        },
        "id": "_cncPFjTsfHK",
        "outputId": "aa38e7c7-05e5-42d0-b6ab-e54590528dcc"
      },
      "source": [
        "# Check again for any NaN values.\r\n",
        "print(Data.isnull().sum())"
      ],
      "execution_count": null,
      "outputs": [
        {
          "output_type": "stream",
          "text": [
            "state                                       0\n",
            "median_household_income                     0\n",
            "share_unemployed_seasonal                   0\n",
            "share_population_in_metro_areas             0\n",
            "share_population_with_high_school_degree    0\n",
            "share_non_citizen                           0\n",
            "share_white_poverty                         0\n",
            "gini_index                                  0\n",
            "share_non_white                             0\n",
            "share_voters_voted_trump                    0\n",
            "hate_crimes_per_100k_splc                   0\n",
            "avg_hatecrimes_per_100k_fbi                 0\n",
            "Trump_Victory                               0\n",
            "dtype: int64\n"
          ],
          "name": "stdout"
        }
      ]
    },
    {
      "cell_type": "code",
      "metadata": {
        "colab": {
          "base_uri": "https://localhost:8080/"
        },
        "id": "lIFeuZUPep-e",
        "outputId": "82e98cb4-390b-419c-89ec-b7afc131b393"
      },
      "source": [
        "# Remove 'state' column as it will prevent data fitting later i.e. drop the string.\r\n",
        "# Remove 'share_voters_voted_trump' as we are predicting a Trump state-victory based off remaining features.\r\n",
        "RedactedData = Data.drop(['state','share_voters_voted_trump'], axis = 1)\r\n",
        "\r\n",
        "# Check revised data\r\n",
        "print(RedactedData.head())\r\n",
        "print(RedactedData.shape)"
      ],
      "execution_count": null,
      "outputs": [
        {
          "output_type": "stream",
          "text": [
            "   median_household_income  ...  Trump_Victory\n",
            "0                    42278  ...              1\n",
            "1                    67629  ...              1\n",
            "2                    49254  ...              0\n",
            "3                    44922  ...              1\n",
            "4                    60487  ...              0\n",
            "\n",
            "[5 rows x 11 columns]\n",
            "(51, 11)\n"
          ],
          "name": "stdout"
        }
      ]
    },
    {
      "cell_type": "code",
      "metadata": {
        "colab": {
          "base_uri": "https://localhost:8080/",
          "height": 317
        },
        "id": "HI8AdnzrdJin",
        "outputId": "01511f20-704a-4de9-9421-32f7814cec86"
      },
      "source": [
        "# Display key statistics of the data set.\r\n",
        "RedactedData.describe()"
      ],
      "execution_count": null,
      "outputs": [
        {
          "output_type": "execute_result",
          "data": {
            "text/html": [
              "<div>\n",
              "<style scoped>\n",
              "    .dataframe tbody tr th:only-of-type {\n",
              "        vertical-align: middle;\n",
              "    }\n",
              "\n",
              "    .dataframe tbody tr th {\n",
              "        vertical-align: top;\n",
              "    }\n",
              "\n",
              "    .dataframe thead th {\n",
              "        text-align: right;\n",
              "    }\n",
              "</style>\n",
              "<table border=\"1\" class=\"dataframe\">\n",
              "  <thead>\n",
              "    <tr style=\"text-align: right;\">\n",
              "      <th></th>\n",
              "      <th>median_household_income</th>\n",
              "      <th>share_unemployed_seasonal</th>\n",
              "      <th>share_population_in_metro_areas</th>\n",
              "      <th>share_population_with_high_school_degree</th>\n",
              "      <th>share_non_citizen</th>\n",
              "      <th>share_white_poverty</th>\n",
              "      <th>gini_index</th>\n",
              "      <th>share_non_white</th>\n",
              "      <th>hate_crimes_per_100k_splc</th>\n",
              "      <th>avg_hatecrimes_per_100k_fbi</th>\n",
              "      <th>Trump_Victory</th>\n",
              "    </tr>\n",
              "  </thead>\n",
              "  <tbody>\n",
              "    <tr>\n",
              "      <th>count</th>\n",
              "      <td>51.000000</td>\n",
              "      <td>51.000000</td>\n",
              "      <td>51.000000</td>\n",
              "      <td>51.000000</td>\n",
              "      <td>51.000000</td>\n",
              "      <td>51.000000</td>\n",
              "      <td>51.000000</td>\n",
              "      <td>51.000000</td>\n",
              "      <td>51.000000</td>\n",
              "      <td>51.000000</td>\n",
              "      <td>51.000000</td>\n",
              "    </tr>\n",
              "    <tr>\n",
              "      <th>mean</th>\n",
              "      <td>55223.607843</td>\n",
              "      <td>0.049569</td>\n",
              "      <td>0.750196</td>\n",
              "      <td>0.869118</td>\n",
              "      <td>0.054583</td>\n",
              "      <td>0.091765</td>\n",
              "      <td>0.453765</td>\n",
              "      <td>0.315686</td>\n",
              "      <td>0.304093</td>\n",
              "      <td>2.367613</td>\n",
              "      <td>0.470588</td>\n",
              "    </tr>\n",
              "    <tr>\n",
              "      <th>std</th>\n",
              "      <td>9208.478170</td>\n",
              "      <td>0.010698</td>\n",
              "      <td>0.181587</td>\n",
              "      <td>0.034073</td>\n",
              "      <td>0.030130</td>\n",
              "      <td>0.024715</td>\n",
              "      <td>0.020891</td>\n",
              "      <td>0.164915</td>\n",
              "      <td>0.242390</td>\n",
              "      <td>1.697016</td>\n",
              "      <td>0.504101</td>\n",
              "    </tr>\n",
              "    <tr>\n",
              "      <th>min</th>\n",
              "      <td>35521.000000</td>\n",
              "      <td>0.028000</td>\n",
              "      <td>0.310000</td>\n",
              "      <td>0.799000</td>\n",
              "      <td>0.010000</td>\n",
              "      <td>0.040000</td>\n",
              "      <td>0.419000</td>\n",
              "      <td>0.060000</td>\n",
              "      <td>0.067447</td>\n",
              "      <td>0.266941</td>\n",
              "      <td>0.000000</td>\n",
              "    </tr>\n",
              "    <tr>\n",
              "      <th>25%</th>\n",
              "      <td>48657.000000</td>\n",
              "      <td>0.042000</td>\n",
              "      <td>0.630000</td>\n",
              "      <td>0.840500</td>\n",
              "      <td>0.030000</td>\n",
              "      <td>0.075000</td>\n",
              "      <td>0.440000</td>\n",
              "      <td>0.195000</td>\n",
              "      <td>0.147645</td>\n",
              "      <td>1.303706</td>\n",
              "      <td>0.000000</td>\n",
              "    </tr>\n",
              "    <tr>\n",
              "      <th>50%</th>\n",
              "      <td>54916.000000</td>\n",
              "      <td>0.051000</td>\n",
              "      <td>0.790000</td>\n",
              "      <td>0.874000</td>\n",
              "      <td>0.050000</td>\n",
              "      <td>0.090000</td>\n",
              "      <td>0.454000</td>\n",
              "      <td>0.280000</td>\n",
              "      <td>0.247009</td>\n",
              "      <td>2.037054</td>\n",
              "      <td>0.000000</td>\n",
              "    </tr>\n",
              "    <tr>\n",
              "      <th>75%</th>\n",
              "      <td>60719.000000</td>\n",
              "      <td>0.057500</td>\n",
              "      <td>0.895000</td>\n",
              "      <td>0.898000</td>\n",
              "      <td>0.080000</td>\n",
              "      <td>0.100000</td>\n",
              "      <td>0.466500</td>\n",
              "      <td>0.420000</td>\n",
              "      <td>0.343006</td>\n",
              "      <td>3.168247</td>\n",
              "      <td>1.000000</td>\n",
              "    </tr>\n",
              "    <tr>\n",
              "      <th>max</th>\n",
              "      <td>76165.000000</td>\n",
              "      <td>0.073000</td>\n",
              "      <td>1.000000</td>\n",
              "      <td>0.918000</td>\n",
              "      <td>0.130000</td>\n",
              "      <td>0.170000</td>\n",
              "      <td>0.532000</td>\n",
              "      <td>0.810000</td>\n",
              "      <td>1.522302</td>\n",
              "      <td>10.953480</td>\n",
              "      <td>1.000000</td>\n",
              "    </tr>\n",
              "  </tbody>\n",
              "</table>\n",
              "</div>"
            ],
            "text/plain": [
              "       median_household_income  ...  Trump_Victory\n",
              "count                51.000000  ...      51.000000\n",
              "mean              55223.607843  ...       0.470588\n",
              "std                9208.478170  ...       0.504101\n",
              "min               35521.000000  ...       0.000000\n",
              "25%               48657.000000  ...       0.000000\n",
              "50%               54916.000000  ...       0.000000\n",
              "75%               60719.000000  ...       1.000000\n",
              "max               76165.000000  ...       1.000000\n",
              "\n",
              "[8 rows x 11 columns]"
            ]
          },
          "metadata": {
            "tags": []
          },
          "execution_count": 10
        }
      ]
    },
    {
      "cell_type": "markdown",
      "metadata": {
        "id": "088hDFjALVn1"
      },
      "source": [
        "**Vizualise the Data**"
      ]
    },
    {
      "cell_type": "code",
      "metadata": {
        "id": "H20n4aXuLbor"
      },
      "source": [
        "# Import the relevant library.\r\n",
        "import seaborn as sns\r\n",
        "import matplotlib. pyplot as plt\r\n",
        "%matplotlib inline"
      ],
      "execution_count": null,
      "outputs": []
    },
    {
      "cell_type": "code",
      "metadata": {
        "colab": {
          "base_uri": "https://localhost:8080/",
          "height": 601
        },
        "id": "Owrxboif0V1N",
        "outputId": "f5e06b39-685a-4391-a115-74d096f4c56f"
      },
      "source": [
        "# View the correlation of our data set by use of seaborn's heatmap function.\r\n",
        "cols = RedactedData.corr().nlargest(11, \"Trump_Victory\")[\"Trump_Victory\"].index\r\n",
        "cm = RedactedData[cols].corr()\r\n",
        "plt.figure(figsize=(10,6))\r\n",
        "sns.heatmap(cm, annot=True, cmap= 'viridis')"
      ],
      "execution_count": null,
      "outputs": [
        {
          "output_type": "execute_result",
          "data": {
            "text/plain": [
              "<matplotlib.axes._subplots.AxesSubplot at 0x7feb0a675b00>"
            ]
          },
          "metadata": {
            "tags": []
          },
          "execution_count": 12
        },
        {
          "output_type": "display_data",
          "data": {
            "image/png": "[encoded data removed]",
            "text/plain": [
              "<Figure size 720x432 with 2 Axes>"
            ]
          },
          "metadata": {
            "tags": [],
            "needs_background": "light"
          }
        }
      ]
    },
    {
      "cell_type": "markdown",
      "metadata": {
        "id": "-8dFUPPrBIhu"
      },
      "source": [
        "**Tailoring the Data**"
      ]
    },
    {
      "cell_type": "code",
      "metadata": {
        "id": "V4UAgIevMSjh"
      },
      "source": [
        "# Import the relevant sklearn library.\r\n",
        "from sklearn.model_selection import train_test_split"
      ],
      "execution_count": null,
      "outputs": []
    },
    {
      "cell_type": "code",
      "metadata": {
        "id": "Wca-dL5pYjUS"
      },
      "source": [
        "# Divide the data into 'Features' and 'Outcome' using .iloc function.\r\n",
        "\r\n",
        "Features = RedactedData.iloc[:,:-1]\r\n",
        "\r\n",
        "Outcome = RedactedData.iloc[:,-1]"
      ],
      "execution_count": null,
      "outputs": []
    },
    {
      "cell_type": "code",
      "metadata": {
        "colab": {
          "base_uri": "https://localhost:8080/"
        },
        "id": "3bNXjSTEZLnC",
        "outputId": "43cec706-b17f-4c8c-8c4e-3700806fe98b"
      },
      "source": [
        "# Check to see if the data set has been divided, as expected.\r\n",
        "\r\n",
        "print(Features.head())\r\n",
        "\r\n",
        "print(Outcome.head())"
      ],
      "execution_count": null,
      "outputs": [
        {
          "output_type": "stream",
          "text": [
            "   median_household_income  ...  avg_hatecrimes_per_100k_fbi\n",
            "0                    42278  ...                     1.806410\n",
            "1                    67629  ...                     1.656700\n",
            "2                    49254  ...                     3.413928\n",
            "3                    44922  ...                     0.869209\n",
            "4                    60487  ...                     2.397986\n",
            "\n",
            "[5 rows x 10 columns]\n",
            "0    1\n",
            "1    1\n",
            "2    0\n",
            "3    1\n",
            "4    0\n",
            "Name: Trump_Victory, dtype: int64\n"
          ],
          "name": "stdout"
        }
      ]
    },
    {
      "cell_type": "code",
      "metadata": {
        "colab": {
          "base_uri": "https://localhost:8080/"
        },
        "id": "VEii4eHAjb_0",
        "outputId": "9da54986-ca23-472f-f392-f4967dfcb9a8"
      },
      "source": [
        "# Perfrom train and test split.\r\n",
        "X_train, X_test, y_train, y_test = train_test_split(Features,Outcome, test_size = 0.25, shuffle = False, random_state = 0)\r\n",
        "\r\n",
        "# Check the outcome of the split .\r\n",
        "X_train.shape, X_test.shape, y_train.shape, y_test.shape"
      ],
      "execution_count": null,
      "outputs": [
        {
          "output_type": "execute_result",
          "data": {
            "text/plain": [
              "((38, 10), (13, 10), (38,), (13,))"
            ]
          },
          "metadata": {
            "tags": []
          },
          "execution_count": 16
        }
      ]
    },
    {
      "cell_type": "markdown",
      "metadata": {
        "id": "y0Y1kCg9-p0b"
      },
      "source": [
        "**KNN Model**\r\n",
        "\r\n"
      ]
    },
    {
      "cell_type": "markdown",
      "metadata": {
        "id": "4y3o5YLrDHBh"
      },
      "source": [
        "> *Best Result*\r\n",
        "\r\n"
      ]
    },
    {
      "cell_type": "code",
      "metadata": {
        "id": "l4eKc8es46Sa"
      },
      "source": [
        "# Import relevant sklearn libraries.\r\n",
        "from sklearn.neighbors import KNeighborsClassifier\r\n",
        "from sklearn.metrics import accuracy_score"
      ],
      "execution_count": null,
      "outputs": []
    },
    {
      "cell_type": "code",
      "metadata": {
        "id": "RznCwLxX5B15"
      },
      "source": [
        "# Load the model.\r\n",
        "KNN_Model = KNeighborsClassifier(n_neighbors=3)"
      ],
      "execution_count": null,
      "outputs": []
    },
    {
      "cell_type": "code",
      "metadata": {
        "id": "Hs3ymNwb6cbT",
        "colab": {
          "base_uri": "https://localhost:8080/"
        },
        "outputId": "64791165-9bbe-48e1-e50a-41383fe9b235"
      },
      "source": [
        "# Introduce data to the model.\r\n",
        "KNN_Model.fit(X_train, y_train)"
      ],
      "execution_count": null,
      "outputs": [
        {
          "output_type": "execute_result",
          "data": {
            "text/plain": [
              "KNeighborsClassifier(algorithm='auto', leaf_size=30, metric='minkowski',\n",
              "                     metric_params=None, n_jobs=None, n_neighbors=3, p=2,\n",
              "                     weights='uniform')"
            ]
          },
          "metadata": {
            "tags": []
          },
          "execution_count": 19
        }
      ]
    },
    {
      "cell_type": "code",
      "metadata": {
        "id": "3JygEjuu96GP",
        "colab": {
          "base_uri": "https://localhost:8080/"
        },
        "outputId": "b460b581-c766-4493-9d02-5d78313493b8"
      },
      "source": [
        "# Make predictions.\r\n",
        "Prediction = KNN_Model.predict(X_test)\r\n",
        "print(len(Prediction))"
      ],
      "execution_count": null,
      "outputs": [
        {
          "output_type": "stream",
          "text": [
            "13\n"
          ],
          "name": "stdout"
        }
      ]
    },
    {
      "cell_type": "code",
      "metadata": {
        "id": "rlCYsjbT33f5"
      },
      "source": [
        "# Generate model accuracy.\r\n",
        "Results = 100*accuracy_score(y_test,Prediction)"
      ],
      "execution_count": null,
      "outputs": []
    },
    {
      "cell_type": "code",
      "metadata": {
        "colab": {
          "base_uri": "https://localhost:8080/"
        },
        "id": "1XC7UUKWTRyp",
        "outputId": "a7d9c2ac-707b-415c-bfbd-8924868f8f6b"
      },
      "source": [
        "# View model accuracy score.\r\n",
        "print(\"Model used = \",KNN_Model)\r\n",
        "print(\"Accuracy score = \",Results)"
      ],
      "execution_count": null,
      "outputs": [
        {
          "output_type": "stream",
          "text": [
            "Model used =  KNeighborsClassifier(algorithm='auto', leaf_size=30, metric='minkowski',\n",
            "                     metric_params=None, n_jobs=None, n_neighbors=3, p=2,\n",
            "                     weights='uniform')\n",
            "Accuracy score =  92.3076923076923\n"
          ],
          "name": "stdout"
        }
      ]
    },
    {
      "cell_type": "markdown",
      "metadata": {
        "id": "kmB7052UDMUO"
      },
      "source": [
        "> *Testing other K values*\r\n",
        "\r\n"
      ]
    },
    {
      "cell_type": "code",
      "metadata": {
        "colab": {
          "base_uri": "https://localhost:8080/"
        },
        "id": "GQuHtjI1DSX-",
        "outputId": "d244640c-6b77-4375-ceb1-949a96289087"
      },
      "source": [
        "# K = 2\r\n",
        "K2 = KNeighborsClassifier(n_neighbors=2)\r\n",
        "K2.fit(X_train, y_train)\r\n",
        "Pred2 = K2.predict(X_test)\r\n",
        "print(len(Pred2))\r\n",
        "R2 = 100*accuracy_score(y_test,Pred2)\r\n",
        "print(\"Model used = \",K2)\r\n",
        "print(\"Accuracy score = \",R2)"
      ],
      "execution_count": null,
      "outputs": [
        {
          "output_type": "stream",
          "text": [
            "13\n",
            "Model used =  KNeighborsClassifier(algorithm='auto', leaf_size=30, metric='minkowski',\n",
            "                     metric_params=None, n_jobs=None, n_neighbors=2, p=2,\n",
            "                     weights='uniform')\n",
            "Accuracy score =  76.92307692307693\n"
          ],
          "name": "stdout"
        }
      ]
    },
    {
      "cell_type": "code",
      "metadata": {
        "colab": {
          "base_uri": "https://localhost:8080/"
        },
        "id": "GHq7GcjADrxA",
        "outputId": "2924c67c-40c7-46f6-b7c6-f35579d327f7"
      },
      "source": [
        "# K = 4\r\n",
        "K4 = KNeighborsClassifier(n_neighbors=4)\r\n",
        "K4.fit(X_train, y_train)\r\n",
        "Pred4 = K4.predict(X_test)\r\n",
        "print(len(Pred4))\r\n",
        "R4 = 100*accuracy_score(y_test,Pred4)\r\n",
        "print(\"Model used = \",K4)\r\n",
        "print(\"Accuracy score = \",R4)"
      ],
      "execution_count": null,
      "outputs": [
        {
          "output_type": "stream",
          "text": [
            "13\n",
            "Model used =  KNeighborsClassifier(algorithm='auto', leaf_size=30, metric='minkowski',\n",
            "                     metric_params=None, n_jobs=None, n_neighbors=4, p=2,\n",
            "                     weights='uniform')\n",
            "Accuracy score =  69.23076923076923\n"
          ],
          "name": "stdout"
        }
      ]
    },
    {
      "cell_type": "code",
      "metadata": {
        "colab": {
          "base_uri": "https://localhost:8080/"
        },
        "id": "yNkKnJkEvg9h",
        "outputId": "98b92165-14a1-41ec-d845-04c35551b7af"
      },
      "source": [
        "# Comparison of K numbers.\r\n",
        "print(\"Model used = \",KNN_Model)\r\n",
        "print(\"Accuracy score = \",Results)\r\n",
        "print(\"Model used = \",K4)\r\n",
        "print(\"Accuracy score = \",R4)\r\n",
        "print(\"Model used = \",K2)\r\n",
        "print(\"Accuracy score = \",R2)"
      ],
      "execution_count": null,
      "outputs": [
        {
          "output_type": "stream",
          "text": [
            "Model used =  KNeighborsClassifier(algorithm='auto', leaf_size=30, metric='minkowski',\n",
            "                     metric_params=None, n_jobs=None, n_neighbors=3, p=2,\n",
            "                     weights='uniform')\n",
            "Accuracy score =  92.3076923076923\n",
            "Model used =  KNeighborsClassifier(algorithm='auto', leaf_size=30, metric='minkowski',\n",
            "                     metric_params=None, n_jobs=None, n_neighbors=4, p=2,\n",
            "                     weights='uniform')\n",
            "Accuracy score =  69.23076923076923\n",
            "Model used =  KNeighborsClassifier(algorithm='auto', leaf_size=30, metric='minkowski',\n",
            "                     metric_params=None, n_jobs=None, n_neighbors=2, p=2,\n",
            "                     weights='uniform')\n",
            "Accuracy score =  76.92307692307693\n"
          ],
          "name": "stdout"
        }
      ]
    },
    {
      "cell_type": "markdown",
      "metadata": {
        "id": "Z2CpWgePG3tS"
      },
      "source": [
        "**Logistic Regression Model**"
      ]
    },
    {
      "cell_type": "code",
      "metadata": {
        "id": "jXhobooz5ilh"
      },
      "source": [
        "# Import relevant sklearn library.\r\n",
        "from sklearn.linear_model import LogisticRegression"
      ],
      "execution_count": null,
      "outputs": []
    },
    {
      "cell_type": "code",
      "metadata": {
        "id": "ruRmc_q2G7rK"
      },
      "source": [
        "# Load the model.\r\n",
        "LR_Model = LogisticRegression()"
      ],
      "execution_count": null,
      "outputs": []
    },
    {
      "cell_type": "code",
      "metadata": {
        "id": "1UCmxvC0HgkH",
        "colab": {
          "base_uri": "https://localhost:8080/"
        },
        "outputId": "39d6eae4-5931-4b14-cf18-92e71ddb133a"
      },
      "source": [
        "# Introduce data to the model.\r\n",
        "LR_Model.fit(X_train, y_train)"
      ],
      "execution_count": null,
      "outputs": [
        {
          "output_type": "execute_result",
          "data": {
            "text/plain": [
              "LogisticRegression(C=1.0, class_weight=None, dual=False, fit_intercept=True,\n",
              "                   intercept_scaling=1, l1_ratio=None, max_iter=100,\n",
              "                   multi_class='auto', n_jobs=None, penalty='l2',\n",
              "                   random_state=None, solver='lbfgs', tol=0.0001, verbose=0,\n",
              "                   warm_start=False)"
            ]
          },
          "metadata": {
            "tags": []
          },
          "execution_count": 30
        }
      ]
    },
    {
      "cell_type": "code",
      "metadata": {
        "colab": {
          "base_uri": "https://localhost:8080/"
        },
        "id": "qZkrmeNF6Aqo",
        "outputId": "86f35b50-3130-4734-ec5b-85dd6b322a0d"
      },
      "source": [
        "# Make predictions.\r\n",
        "Prediction_LR = LR_Model.predict(X_test)\r\n",
        "print(len(Prediction_LR))"
      ],
      "execution_count": null,
      "outputs": [
        {
          "output_type": "stream",
          "text": [
            "13\n"
          ],
          "name": "stdout"
        }
      ]
    },
    {
      "cell_type": "code",
      "metadata": {
        "colab": {
          "base_uri": "https://localhost:8080/"
        },
        "id": "2J8aM10K6Nyl",
        "outputId": "c3b724f0-55d3-4553-fe78-b6b9be49bcb7"
      },
      "source": [
        "# View model accuracy score\r\n",
        "Results_LR = 100*accuracy_score(y_test,Prediction_LR)\r\n",
        "print(\"Model used = \",LR_Model)\r\n",
        "print(\"Accuracy score = \",Results_LR)"
      ],
      "execution_count": null,
      "outputs": [
        {
          "output_type": "stream",
          "text": [
            "Model used =  LogisticRegression(C=1.0, class_weight=None, dual=False, fit_intercept=True,\n",
            "                   intercept_scaling=1, l1_ratio=None, max_iter=100,\n",
            "                   multi_class='auto', n_jobs=None, penalty='l2',\n",
            "                   random_state=None, solver='lbfgs', tol=0.0001, verbose=0,\n",
            "                   warm_start=False)\n",
            "Accuracy score =  53.84615384615385\n"
          ],
          "name": "stdout"
        }
      ]
    },
    {
      "cell_type": "markdown",
      "metadata": {
        "id": "K4A_iF5Fbx7Z"
      },
      "source": [
        "**Feature Selection**\r\n",
        "\r\n",
        "*tested against KNN model*\r\n",
        "> SelectKBest"
      ]
    },
    {
      "cell_type": "code",
      "metadata": {
        "id": "7zbRWjSUb59L"
      },
      "source": [
        "# Import relevant sklearn library\r\n",
        "from numpy import set_printoptions\r\n",
        "from sklearn.feature_selection import SelectKBest\r\n",
        "from sklearn.feature_selection import chi2"
      ],
      "execution_count": null,
      "outputs": []
    },
    {
      "cell_type": "code",
      "metadata": {
        "colab": {
          "base_uri": "https://localhost:8080/"
        },
        "id": "0JETK5FwF2k8",
        "outputId": "f99d84c4-b982-4750-8e0d-b2d2019b0552"
      },
      "source": [
        "# Deploy SelectKBest function\r\n",
        "SKBest = SelectKBest(score_func=chi2, k=5)\r\n",
        "SKBest.fit(X_train, y_train)"
      ],
      "execution_count": null,
      "outputs": [
        {
          "output_type": "execute_result",
          "data": {
            "text/plain": [
              "SelectKBest(k=5, score_func=<function chi2 at 0x7feafcc06e18>)"
            ]
          },
          "metadata": {
            "tags": []
          },
          "execution_count": 35
        }
      ]
    },
    {
      "cell_type": "code",
      "metadata": {
        "colab": {
          "base_uri": "https://localhost:8080/",
          "height": 359
        },
        "id": "5RgW7mpyGqDL",
        "outputId": "ed113646-2964-4bc9-87e4-594d2bf0cf21"
      },
      "source": [
        "# View the best 5 columns\r\n",
        "SKBest_Features = pd.DataFrame({'Feature':list(X_train.columns),\r\n",
        "                                'Rank':SKBest.scores_})\r\n",
        "SKBest_Features.sort_values(by='Rank', ascending=False)"
      ],
      "execution_count": null,
      "outputs": [
        {
          "output_type": "execute_result",
          "data": {
            "text/html": [
              "<div>\n",
              "<style scoped>\n",
              "    .dataframe tbody tr th:only-of-type {\n",
              "        vertical-align: middle;\n",
              "    }\n",
              "\n",
              "    .dataframe tbody tr th {\n",
              "        vertical-align: top;\n",
              "    }\n",
              "\n",
              "    .dataframe thead th {\n",
              "        text-align: right;\n",
              "    }\n",
              "</style>\n",
              "<table border=\"1\" class=\"dataframe\">\n",
              "  <thead>\n",
              "    <tr style=\"text-align: right;\">\n",
              "      <th></th>\n",
              "      <th>Feature</th>\n",
              "      <th>Rank</th>\n",
              "    </tr>\n",
              "  </thead>\n",
              "  <tbody>\n",
              "    <tr>\n",
              "      <th>0</th>\n",
              "      <td>median_household_income</td>\n",
              "      <td>15441.851410</td>\n",
              "    </tr>\n",
              "    <tr>\n",
              "      <th>9</th>\n",
              "      <td>avg_hatecrimes_per_100k_fbi</td>\n",
              "      <td>4.694839</td>\n",
              "    </tr>\n",
              "    <tr>\n",
              "      <th>8</th>\n",
              "      <td>hate_crimes_per_100k_splc</td>\n",
              "      <td>1.362118</td>\n",
              "    </tr>\n",
              "    <tr>\n",
              "      <th>2</th>\n",
              "      <td>share_population_in_metro_areas</td>\n",
              "      <td>0.572347</td>\n",
              "    </tr>\n",
              "    <tr>\n",
              "      <th>7</th>\n",
              "      <td>share_non_white</td>\n",
              "      <td>0.451424</td>\n",
              "    </tr>\n",
              "    <tr>\n",
              "      <th>4</th>\n",
              "      <td>share_non_citizen</td>\n",
              "      <td>0.267917</td>\n",
              "    </tr>\n",
              "    <tr>\n",
              "      <th>5</th>\n",
              "      <td>share_white_poverty</td>\n",
              "      <td>0.064554</td>\n",
              "    </tr>\n",
              "    <tr>\n",
              "      <th>1</th>\n",
              "      <td>share_unemployed_seasonal</td>\n",
              "      <td>0.002410</td>\n",
              "    </tr>\n",
              "    <tr>\n",
              "      <th>6</th>\n",
              "      <td>gini_index</td>\n",
              "      <td>0.002274</td>\n",
              "    </tr>\n",
              "    <tr>\n",
              "      <th>3</th>\n",
              "      <td>share_population_with_high_school_degree</td>\n",
              "      <td>0.000893</td>\n",
              "    </tr>\n",
              "  </tbody>\n",
              "</table>\n",
              "</div>"
            ],
            "text/plain": [
              "                                    Feature          Rank\n",
              "0                   median_household_income  15441.851410\n",
              "9               avg_hatecrimes_per_100k_fbi      4.694839\n",
              "8                 hate_crimes_per_100k_splc      1.362118\n",
              "2           share_population_in_metro_areas      0.572347\n",
              "7                           share_non_white      0.451424\n",
              "4                         share_non_citizen      0.267917\n",
              "5                       share_white_poverty      0.064554\n",
              "1                 share_unemployed_seasonal      0.002410\n",
              "6                                gini_index      0.002274\n",
              "3  share_population_with_high_school_degree      0.000893"
            ]
          },
          "metadata": {
            "tags": []
          },
          "execution_count": 36
        }
      ]
    },
    {
      "cell_type": "code",
      "metadata": {
        "id": "SjB1j-UtJqYa"
      },
      "source": [
        "# Transform the data\r\n",
        "X_train_SK = SKBest.transform(X_train)\r\n",
        "X_test_SK = SKBest.transform(X_test)"
      ],
      "execution_count": null,
      "outputs": []
    },
    {
      "cell_type": "code",
      "metadata": {
        "id": "Y0AuyOF4NZ0p"
      },
      "source": [
        "# Fit the transformed data to the model\r\n",
        "SK_Model = KNN_Model.fit(X_train_SK,y_train)"
      ],
      "execution_count": null,
      "outputs": []
    },
    {
      "cell_type": "code",
      "metadata": {
        "id": "WSR0Pd_NNpmo"
      },
      "source": [
        "Prediction = KNN_Model.predict(X_test_SK)"
      ],
      "execution_count": null,
      "outputs": []
    },
    {
      "cell_type": "code",
      "metadata": {
        "id": "RHSE0DABNwd2"
      },
      "source": [
        "Results = 100*accuracy_score(y_test,Prediction)"
      ],
      "execution_count": null,
      "outputs": []
    },
    {
      "cell_type": "code",
      "metadata": {
        "colab": {
          "base_uri": "https://localhost:8080/"
        },
        "id": "WJ5GqP7EN-YW",
        "outputId": "5ff6a26f-1273-400a-98a8-d4d3f8ef2d57"
      },
      "source": [
        "print(\"Model used = \",SK_Model)\r\n",
        "print(\"Accuracy score = \",Results)"
      ],
      "execution_count": null,
      "outputs": [
        {
          "output_type": "stream",
          "text": [
            "Model used =  KNeighborsClassifier(algorithm='auto', leaf_size=30, metric='minkowski',\n",
            "                     metric_params=None, n_jobs=None, n_neighbors=3, p=2,\n",
            "                     weights='uniform')\n",
            "Accuracy score =  92.3076923076923\n"
          ],
          "name": "stdout"
        }
      ]
    }
  ]
}